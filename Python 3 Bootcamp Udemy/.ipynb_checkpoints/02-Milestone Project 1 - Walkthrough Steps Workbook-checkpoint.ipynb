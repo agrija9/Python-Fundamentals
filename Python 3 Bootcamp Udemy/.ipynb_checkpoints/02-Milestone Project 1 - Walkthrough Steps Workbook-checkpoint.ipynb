{
 "cells": [
  {
   "cell_type": "markdown",
   "metadata": {},
   "source": [
    "# Milestone Project 1: Walkthrough Steps Workbook\n",
    "\n",
    "Below is a set of steps for you to follow to try to create the Tic Tac Toe Milestone Project game!"
   ]
  },
  {
   "cell_type": "markdown",
   "metadata": {},
   "source": [
    "#### Some suggested tools before you get started:\n",
    "To take input from a user:\n",
    "\n",
    "    player1 = input(\"Please pick a marker 'X' or 'O'\")\n",
    "    \n",
    "Note that input() takes in a string. If you need an integer value, use\n",
    "\n",
    "    position = int(input('Please enter a number'))\n",
    "    \n",
    "<br>To clear the screen between moves:\n",
    "\n",
    "    from IPython.display import clear_output\n",
    "    clear_output()\n",
    "    \n",
    "Note that clear_output() will only work in jupyter. To clear the screen in other IDEs, consider:\n",
    "\n",
    "    print('\\n'*100)\n",
    "    \n",
    "This scrolls the previous board up out of view. Now on to the program!"
   ]
  },
  {
   "cell_type": "markdown",
   "metadata": {},
   "source": [
    "**Step 1: Write a function that can print out a board. Set up your board as a list, where each index 1-9 corresponds with a number on a number pad, so you get a 3 by 3 board representation.**"
   ]
  },
  {
   "cell_type": "code",
   "execution_count": 1,
   "metadata": {},
   "outputs": [],
   "source": [
    "from IPython.display import clear_output\n",
    "\n",
    "def display_board(board):\n",
    "    clear_output()\n",
    "    print('---------')\n",
    "    print(board[7] + ' | ' + board[8] + ' | ' + board[9])\n",
    "    print(board[4] + ' | ' + board[5] + ' | ' + board[6])\n",
    "    print(board[1] + ' | ' + board[2] + ' | ' + board[3])\n",
    "    print('---------')"
   ]
  },
  {
   "cell_type": "markdown",
   "metadata": {},
   "source": [
    "**TEST Step 1:** run your function on a test version of the board list, and make adjustments as necessary"
   ]
  },
  {
   "cell_type": "code",
   "execution_count": 2,
   "metadata": {},
   "outputs": [
    {
     "name": "stdout",
     "output_type": "stream",
     "text": [
      "---------\n",
      "X | O | X\n",
      "O | X | O\n",
      "X | O | O\n",
      "---------\n"
     ]
    }
   ],
   "source": [
    "test_board = ['#','X','O','O','O','X','O','X','O','X']\n",
    "display_board(test_board)"
   ]
  },
  {
   "cell_type": "markdown",
   "metadata": {},
   "source": [
    "**Step 2: Write a function that can take in a player input and assign their marker as 'X' or 'O'. Think about using *while* loops to continually ask until you get a correct answer.**"
   ]
  },
  {
   "cell_type": "code",
   "execution_count": 3,
   "metadata": {},
   "outputs": [],
   "source": [
    "def player_input():\n",
    "    marker = \" \"\n",
    "    \n",
    "    while marker != 'X' and marker != 'O':\n",
    "        marker = input(\"Player 1 pick a marker 'X' or 'O': \")\n",
    "        #print(player1)\n",
    "        #print(type(player1))\n",
    "    \n",
    "    player1 = marker\n",
    "    \n",
    "    if player1 == 'X':\n",
    "        player2 = 'O'\n",
    "    \n",
    "    else:\n",
    "        player2 = 'X'\n",
    "    \n",
    "    #print(player1, player2)\n",
    "    return (player1, player2)"
   ]
  },
  {
   "cell_type": "markdown",
   "metadata": {},
   "source": [
    "**TEST Step 2:** run the function to make sure it returns the desired output"
   ]
  },
  {
   "cell_type": "code",
   "execution_count": null,
   "metadata": {},
   "outputs": [],
   "source": [
    "player_input()"
   ]
  },
  {
   "cell_type": "markdown",
   "metadata": {},
   "source": [
    "**Step 3: Write a function that takes in the board list object, a marker ('X' or 'O'), and a desired position (number 1-9) and assigns it to the board.**"
   ]
  },
  {
   "cell_type": "code",
   "execution_count": 4,
   "metadata": {},
   "outputs": [],
   "source": [
    "test_board = ['#',' ',' ',' ',' ',' ',' ',' ',' ',' ']"
   ]
  },
  {
   "cell_type": "code",
   "execution_count": 5,
   "metadata": {},
   "outputs": [],
   "source": [
    "def place_marker(board, marker, position):\n",
    "    # we'll rewrite the board list\n",
    "    # not verifying each input --> assume they are correct \n",
    "    board[position] = marker\n",
    "    return board"
   ]
  },
  {
   "cell_type": "markdown",
   "metadata": {},
   "source": [
    "**TEST Step 3:** run the place marker function using test parameters and display the modified board"
   ]
  },
  {
   "cell_type": "code",
   "execution_count": 6,
   "metadata": {},
   "outputs": [
    {
     "name": "stdout",
     "output_type": "stream",
     "text": [
      "---------\n",
      "  |   |  \n",
      "  |   | X\n",
      "  |   |  \n",
      "---------\n"
     ]
    }
   ],
   "source": [
    "place_marker(test_board,'X',6)\n",
    "display_board(test_board)"
   ]
  },
  {
   "cell_type": "markdown",
   "metadata": {},
   "source": [
    "**Step 4: Write a function that takes in a board and a mark (X or O) and then checks to see if that mark has won.**"
   ]
  },
  {
   "cell_type": "code",
   "execution_count": 34,
   "metadata": {},
   "outputs": [
    {
     "name": "stdout",
     "output_type": "stream",
     "text": [
      "---------\n",
      "  | O | X\n",
      "O | X | O\n",
      "X | O | X\n",
      "---------\n"
     ]
    }
   ],
   "source": [
    "#test_board = ['#','X','X','O','O','O','X','X','O','X'] # CASE WORKS\n",
    "test_board = ['#','X','O','X','O','X','O',' ','O','X'] # CASE DOESN'T WORK\n",
    "#test_board = ['#','X','X','X','','O','O','','',''] # analyze the case when tuple for marked positions is bigger than 3\n",
    "display_board(test_board)"
   ]
  },
  {
   "cell_type": "code",
   "execution_count": 37,
   "metadata": {},
   "outputs": [
    {
     "name": "stdout",
     "output_type": "stream",
     "text": [
      "False\n",
      "False\n",
      "False\n",
      "False\n",
      "False\n",
      "False\n",
      "(1, 5, 9)\n"
     ]
    },
    {
     "data": {
      "text/plain": [
       "True"
      ]
     },
     "execution_count": 37,
     "metadata": {},
     "output_type": "execute_result"
    }
   ],
   "source": [
    "win_check(test_board,'X')"
   ]
  },
  {
   "cell_type": "code",
   "execution_count": 36,
   "metadata": {},
   "outputs": [],
   "source": [
    "# Second Idea\n",
    "def win_check(board, mark):\n",
    "    diagonal_1 = (1,5,9)\n",
    "    diagonal_2 = (3,5,7)\n",
    "\n",
    "    column_1 = (1,4,7)\n",
    "    column_2 = (2,5,8)\n",
    "    column_3 = (3,6,9)\n",
    "\n",
    "    row_1 = (1,2,3)\n",
    "    row_2 = (4,5,6)\n",
    "    row_3 = (7,8,9)\n",
    "    \n",
    "    # Check rows (using tuples)\n",
    "    for row in [row_1,row_2,row_3, column_1, column_2, column_3, diagonal_1, diagonal_2]:\n",
    "        isWin = True\n",
    "        for pos in row:\n",
    "            #print(board[pos])\n",
    "            if not board[pos] == mark: #must fulfill the three elements\n",
    "                isWin = False\n",
    "                print(isWin)\n",
    "                break\n",
    "            \n",
    "        if isWin:\n",
    "            print(row)\n",
    "            return True\n",
    "            #return row\n",
    "        \n",
    "    print(row)       \n",
    "    return False   "
   ]
  },
  {
   "cell_type": "code",
   "execution_count": null,
   "metadata": {},
   "outputs": [],
   "source": [
    "# First Idea\n",
    "def win_check(board, mark): # this check should alternate from X to O and so on ...\n",
    "    diagonal_1 = (1,5,9)\n",
    "    diagonal_2 = (3,5,7)\n",
    "\n",
    "    column_1 = (1,4,7)\n",
    "    column_2 = (2,5,8)\n",
    "    column_3 = (3,6,9)\n",
    "\n",
    "    row_1 = (1,2,3)\n",
    "    row_2 = (4,5,6)\n",
    "    row_3 = (7,8,9)\n",
    "    \n",
    "    win_space = [diagonal_1, diagonal_2, vertical_1, vertical_2, vertical_3, horizontal_1, horizontal_2, horizontal_3]\n",
    "\n",
    "    mark_positions = tuple((i for i, e in enumerate(test_board) if e == mark)) # mark 'X' or 'O'\n",
    "    print('Mark positions: ', mark_positions)\n",
    "    \n",
    "    for win_triplet in win_space:\n",
    "        #print('Win triplet: ', win_triplet)\n",
    "        if any(win_triplet == mark_positions[i:len(win_triplet) + i] for i in range(len(mark_positions) - len(win_triplet) + 1)):\n",
    "            return True\n",
    "    else:\n",
    "        return False"
   ]
  },
  {
   "cell_type": "code",
   "execution_count": null,
   "metadata": {},
   "outputs": [],
   "source": [
    "# (7,1,4) in vertical"
   ]
  },
  {
   "cell_type": "code",
   "execution_count": null,
   "metadata": {},
   "outputs": [],
   "source": [
    "#print(diagonal_config)"
   ]
  },
  {
   "cell_type": "code",
   "execution_count": null,
   "metadata": {},
   "outputs": [],
   "source": [
    "# Create tuple with the positions where the marker is located. Important: it will create the tuple in ascending order\n",
    "# No need to analyze permutations\n",
    "# Edge case: tuple is bigger than 3 elems (TO DO)\n",
    "#mark_positions = tuple((i for i, e in enumerate(test_board) if e == 'X'))\n",
    "#print(mark_positions)"
   ]
  },
  {
   "cell_type": "code",
   "execution_count": null,
   "metadata": {},
   "outputs": [],
   "source": [
    "#diagonal_1 = (1,5,9)\n",
    "#diagonal_2 = (3,5,7)\n",
    "\n",
    "#vertical_1 = (1,4,7)\n",
    "#vertical_2 = (2,5,8)\n",
    "#vertical_3 = (3,6,9)\n",
    "\n",
    "#horizontal_1 = (1,2,3)\n",
    "#horizontal_2 = (4,5,6)\n",
    "#horizontal_3 = (7,8,9)"
   ]
  },
  {
   "cell_type": "code",
   "execution_count": null,
   "metadata": {},
   "outputs": [],
   "source": [
    "# see if mark has a winning triplet \n",
    "\n",
    "#win_space = [diagonal_1, diagonal_2, vertical_1, vertical_2, vertical_3, horizontal_1, horizontal_2, horizontal_3]\n",
    "    \n",
    "#for win_triplet in win_space:\n",
    "    #if any(win_triplet == mark_positions[i:len(win_triplet) + i] for i in range(len(mark_positions) - len(win_triplet) + 1)):\n",
    "        #print('True')\n",
    "    \n",
    "    #else:\n",
    "        #print('False')"
   ]
  },
  {
   "cell_type": "code",
   "execution_count": null,
   "metadata": {},
   "outputs": [],
   "source": [
    "#list(permutations(range(0,2)))\n",
    "#(1,2) in list(permutations((1,2,3)))\n",
    "#flat_list = [item for sublist in l for item in sublist]"
   ]
  },
  {
   "cell_type": "code",
   "execution_count": null,
   "metadata": {},
   "outputs": [],
   "source": [
    "# Create all winning configurations using permutations (as tuples)\n",
    "#from itertools import permutations\n",
    "\n",
    "#vertical_config = [list(permutations((7,4,1))), list(permutations((8,5,2))), list(permutations((9,6,3)))]\n",
    "#vertical_config = [config for sub_config in vertical_config for config in sub_config] #flatten list of lists to list\n",
    "\n",
    "#horizontal_config = [list(permutations((7,8,9))), list(permutations((4,5,6))), list(permutations((1,2,3)))]\n",
    "#horizontal_config = [config for sub_config in horizontal_config for config in sub_config] #flatten list of lists to list\n",
    " \n",
    "#diagonal_config = [list(permutations((7,5,3))), list(permutations((9,5,1)))]\n",
    "#diagonal_config = [config for sub_config in diagonal_config for config in sub_config] #flatten list of lists to list    "
   ]
  },
  {
   "cell_type": "markdown",
   "metadata": {},
   "source": [
    "**TEST Step 4:** run the win_check function against our test_board - it should return True"
   ]
  },
  {
   "cell_type": "code",
   "execution_count": null,
   "metadata": {},
   "outputs": [],
   "source": [
    "win_check(test_board,'X')"
   ]
  },
  {
   "cell_type": "markdown",
   "metadata": {},
   "source": [
    "**Step 5: Write a function that uses the random module to randomly decide which player goes first. You may want to lookup random.randint() Return a string of which player went first.**"
   ]
  },
  {
   "cell_type": "code",
   "execution_count": null,
   "metadata": {},
   "outputs": [],
   "source": [
    "import random\n",
    "\n",
    "def choose_first():\n",
    "    pass"
   ]
  },
  {
   "cell_type": "markdown",
   "metadata": {},
   "source": [
    "**Step 6: Write a function that returns a boolean indicating whether a space on the board is freely available.**"
   ]
  },
  {
   "cell_type": "code",
   "execution_count": null,
   "metadata": {},
   "outputs": [],
   "source": [
    "def space_check(board, position):\n",
    "    \n",
    "    pass"
   ]
  },
  {
   "cell_type": "markdown",
   "metadata": {},
   "source": [
    "**Step 7: Write a function that checks if the board is full and returns a boolean value. True if full, False otherwise.**"
   ]
  },
  {
   "cell_type": "code",
   "execution_count": null,
   "metadata": {},
   "outputs": [],
   "source": [
    "def full_board_check(board):\n",
    "    \n",
    "    pass"
   ]
  },
  {
   "cell_type": "markdown",
   "metadata": {},
   "source": [
    "**Step 8: Write a function that asks for a player's next position (as a number 1-9) and then uses the function from step 6 to check if it's a free position. If it is, then return the position for later use.**"
   ]
  },
  {
   "cell_type": "code",
   "execution_count": null,
   "metadata": {},
   "outputs": [],
   "source": [
    "def player_choice(board):\n",
    "    \n",
    "    pass"
   ]
  },
  {
   "cell_type": "markdown",
   "metadata": {},
   "source": [
    "**Step 9: Write a function that asks the player if they want to play again and returns a boolean True if they do want to play again.**"
   ]
  },
  {
   "cell_type": "code",
   "execution_count": null,
   "metadata": {},
   "outputs": [],
   "source": [
    "def replay():\n",
    "    \n",
    "    pass"
   ]
  },
  {
   "cell_type": "markdown",
   "metadata": {
    "collapsed": true
   },
   "source": [
    "**Step 10: Here comes the hard part! Use while loops and the functions you've made to run the game!**"
   ]
  },
  {
   "cell_type": "code",
   "execution_count": null,
   "metadata": {},
   "outputs": [],
   "source": [
    "print('Welcome to Tic Tac Toe!')\n",
    "\n",
    "#while True:\n",
    "    # Set the game up here\n",
    "    #pass\n",
    "\n",
    "    #while game_on:\n",
    "        #Player 1 Turn\n",
    "        \n",
    "        \n",
    "        # Player2's turn.\n",
    "            \n",
    "            #pass\n",
    "\n",
    "    #if not replay():\n",
    "        #break"
   ]
  }
 ],
 "metadata": {
  "kernelspec": {
   "display_name": "Python 3",
   "language": "python",
   "name": "python3"
  },
  "language_info": {
   "codemirror_mode": {
    "name": "ipython",
    "version": 3
   },
   "file_extension": ".py",
   "mimetype": "text/x-python",
   "name": "python",
   "nbconvert_exporter": "python",
   "pygments_lexer": "ipython3",
   "version": "3.7.2"
  }
 },
 "nbformat": 4,
 "nbformat_minor": 1
}
